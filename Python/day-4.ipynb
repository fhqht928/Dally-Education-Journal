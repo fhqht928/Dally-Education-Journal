{
 "cells": [
  {
   "cell_type": "code",
   "execution_count": 2,
   "id": "ce994b45",
   "metadata": {},
   "outputs": [],
   "source": [
    "#피보나치 수열 함수정의\n",
    "def fibo(n):\n",
    "    global count\n",
    "    count+=1\n",
    "    if n == 1:\n",
    "        return 1\n",
    "    if n == 2:\n",
    "        return 1\n",
    "    else:\n",
    "        return fibo(n-1) + fibo(n-2)"
   ]
  },
  {
   "cell_type": "code",
   "execution_count": 3,
   "id": "a70f6158",
   "metadata": {},
   "outputs": [
    {
     "name": "stdout",
     "output_type": "stream",
     "text": [
      "fibo(35)에 계산에 활용된 덧셈 횟수는 18454929\n"
     ]
    }
   ],
   "source": [
    "count = 0\n",
    "fibo(35)\n",
    "print(\"fibo({})에 계산에 활용된 덧셈 횟수는 {}\".format(35,count))"
   ]
  },
  {
   "cell_type": "code",
   "execution_count": 4,
   "id": "0d8664d0",
   "metadata": {},
   "outputs": [],
   "source": [
    "\n",
    "def fibo_m(n):\n",
    "    global count_fibo\n",
    "    count_fibo += 1\n",
    "    if n in dict_fibo:\n",
    "        return dict_fibo[n]\n",
    "    else:\n",
    "        output = fibo_m(n-1) + fibo_m(n-2)\n",
    "        dict_fibo[n] = output\n",
    "        return output"
   ]
  },
  {
   "cell_type": "code",
   "execution_count": 5,
   "id": "43d2f6e7",
   "metadata": {},
   "outputs": [
    {
     "name": "stdout",
     "output_type": "stream",
     "text": [
      "fibo_m(100)에 계산에 활용된 덧셈 횟수는 197\n"
     ]
    }
   ],
   "source": [
    "dict_fibo = {1:1, 2:2} # 이미 계산된 값을  dictionary에 저장\n",
    "count_fibo = 0\n",
    "fibo_m(100)\n",
    "print(\"fibo_m({})에 계산에 활용된 덧셈 횟수는 {}\".format(100,count_fibo))"
   ]
  },
  {
   "cell_type": "code",
   "execution_count": null,
   "id": "4942b1da",
   "metadata": {},
   "outputs": [],
   "source": [
    "#tuple : 값 변경 안됨()\n",
    "tuple_var = (1,2,3)\n",
    "print(\"tuple[0] : \", tuple_var[0])\n",
    "#tuple_var[1] = 4 #error\n",
    "a,b = 10, 20\n",
    "print(\"a = {}, b = {}\".format(a,b))\n",
    "a,b = b,a#요소 교환\n",
    "print(\"a = {}, b = {}\".format(a,b))\n",
    "\n",
    "c,d = (30, 40)\n",
    "c,d = d,c\n",
    "print(\"c = {}, d = {}\".format(c,d))\n",
    "\n",
    "print(type(a),type(tuple_var))"
   ]
  },
  {
   "cell_type": "code",
   "execution_count": null,
   "id": "0358138c",
   "metadata": {},
   "outputs": [],
   "source": [
    "for idx , value in enumerate([1,2,3,4]):\n",
    "    print(\"{} : {}\".format(idx,value))"
   ]
  },
  {
   "cell_type": "code",
   "execution_count": null,
   "id": "daa1b35b",
   "metadata": {},
   "outputs": [],
   "source": [
    "#lambda 는 함수를 간단하게 정의하는 것\n",
    "def power(x):\n",
    "    return x*x\n",
    "def under3(x):\n",
    "    return x<3\n",
    "print(\"map() : \", list(map(power, [1,2,3,4,5])))\n",
    "print(\"filter() : \", list(filter(under3, [1,2,3,4,5])))"
   ]
  },
  {
   "cell_type": "code",
   "execution_count": null,
   "id": "44bbbe08",
   "metadata": {},
   "outputs": [],
   "source": [
    "print(\"map() : \", list(map(lambda x:x*x, [1,2,3,4,5])))\n",
    "print(\"filter() : \", list(filter(lambda x:x<3, [1,2,3,4,5])))"
   ]
  },
  {
   "cell_type": "code",
   "execution_count": null,
   "id": "cec9d832",
   "metadata": {},
   "outputs": [],
   "source": [
    "x,y = 20,3\n",
    "lambda x,y : x*y"
   ]
  },
  {
   "cell_type": "code",
   "execution_count": null,
   "id": "f605857d",
   "metadata": {},
   "outputs": [],
   "source": [
    "#file open, write,close\n",
    "#file = open('경로명/파일명', mode: 'w,r,a')\n",
    "file = open('./basic.txt', 'w') # w : 기존에 존재하면 기존 내용 없앰, 새로 생성.\n",
    "file.write(\"Hello python\")\n",
    "file.close()"
   ]
  },
  {
   "cell_type": "code",
   "execution_count": null,
   "id": "22b96b4c",
   "metadata": {},
   "outputs": [],
   "source": [
    "# file read\n",
    "with open('./basic.txt', 'r') as file: #with 문장을 종료하면 file close를 자동으로 실행함\n",
    "    contents = file.read()\n",
    "print(contents)"
   ]
  },
  {
   "cell_type": "code",
   "execution_count": null,
   "id": "03779885",
   "metadata": {},
   "outputs": [],
   "source": [
    "# file read\n",
    "file = open('./basic.txt', 'r') # 입력모드로, 존재하지 않으면 error\n",
    "a = file.read()\n",
    "a\n",
    "file.close()"
   ]
  },
  {
   "cell_type": "code",
   "execution_count": null,
   "id": "232fd046",
   "metadata": {},
   "outputs": [],
   "source": [
    "#파일명은 score.txt로\n",
    "#이름, 성적을 입력받아 파일에 저장. 'q'가 입력되면 종료. 홍길동,90 (구부자는 ',', 마지막은 \\n으로)\n",
    "# file.write() => print() 함수와 사용법이 유사 , file.write(\"{},{}\\n\".format(name, score))\n",
    "# file 읽어서 화면에 출력하세요.\n",
    "\n",
    "def write_file(score_file):\n",
    "    input_str =  input(\"name score>\").split()\n",
    "    if 'q' in input_str:\n",
    "        return False\n",
    "    score_file.write(\"{} {}\\n\".format(input_str[0],int(input_str[1])))\n",
    "    return True"
   ]
  },
  {
   "cell_type": "code",
   "execution_count": null,
   "id": "055b6fa0",
   "metadata": {
    "scrolled": true
   },
   "outputs": [],
   "source": [
    "with open(\"./score.txt\",'w+') as score_file: # w+ : read,write 가능. 기존 파일 내용 지움\n",
    "    score_file.write(\"{} {}\\n\".format('이름', '성적'))\n",
    "    while True:\n",
    "        if not write_file(score_file):\n",
    "            break\n",
    "       # score_file.seek(0)# 파일 포인터를 처음으로 이동 시킴\n",
    "        #for line in score_file:#파일에서 한 라인씩 가져옴\n",
    "       #     print(line)\n",
    "        print(\"---------\")\n",
    "        score_file.seek(0) #파일 포인터를 처음으로 이동시킴\n",
    "        print(score_file.read())"
   ]
  },
  {
   "cell_type": "code",
   "execution_count": null,
   "id": "8e99a804",
   "metadata": {},
   "outputs": [],
   "source": [
    "#yield 키워드를 사용하여 제너레이터 함수 정의\n",
    "def g_func():\n",
    "    print('test1 ')\n",
    "    yield \"y test1\"\n",
    "    \n",
    "    print('test2 ')\n",
    "    yield \"y test2\"\n",
    "    \n",
    "    print('test3 ')\n",
    "    yield \"y test3\"\n",
    "    \n",
    "func = g_func()\n",
    "print(\"main \")\n",
    "g_func() # 제너레이터 함수는 실행되지 않음.\n",
    "\n",
    "next(func)\n",
    "print(\"main 1 --- \",next(func))\n",
    "print(next(func)) # next(제너레이터 함수명) : yield까지 실행하고 뒤에 나오는 자료를 return\n"
   ]
  },
  {
   "cell_type": "code",
   "execution_count": null,
   "id": "1d8c1af4",
   "metadata": {},
   "outputs": [],
   "source": [
    "a_list = [1,2,3,4,5]\n",
    "r_list = reversed(a_list)\n",
    "for i in range(len(a_list)):\n",
    "    print(next(r_list))"
   ]
  },
  {
   "cell_type": "code",
   "execution_count": null,
   "id": "6a76e8cd",
   "metadata": {},
   "outputs": [],
   "source": [
    "def r_func(v_list):\n",
    "    for i in range(len(v_list)-1,-1,-1): # range(4,-1,-1) -1부터 4까지 -1씩 감소시켜라.\n",
    "        yield v_list[i]\n",
    "        \n",
    "a_list = [10,20,30,40,50]\n",
    "a = r_func(a_list)\n",
    "for i in range(5):\n",
    "    print(next(a))"
   ]
  },
  {
   "cell_type": "code",
   "execution_count": null,
   "id": "f7601694",
   "metadata": {},
   "outputs": [],
   "source": [
    "def r_func(v_list):\n",
    "    for i in range(len(v_list)-1,-1,-1):\n",
    "        yield v_list[i]\n",
    "        \n",
    "a_list = ['ae','qe','rq','we','ff','ttpq','dfe']\n",
    "a = r_func(a_list)\n",
    "for i in range(len(a_list)):\n",
    "    print(next(a))"
   ]
  },
  {
   "cell_type": "code",
   "execution_count": null,
   "id": "8da7065e",
   "metadata": {},
   "outputs": [],
   "source": [
    "# 문자열 합성 : 문자열.join.  함수와 리스틀를 사용 map(함수,리스트)\n",
    "numbers = [1,2,3,4,5,6]\n",
    "print(\"::\".join(map(str,numbers)))\n",
    "print(\"::\".join(str(numbers)))\n",
    "\n"
   ]
  },
  {
   "cell_type": "code",
   "execution_count": null,
   "id": "f2dfbc2a",
   "metadata": {},
   "outputs": [],
   "source": [
    "numbers = list(range(1,10+1))\n",
    "print(\"# 홀수만 추출하기\")\n",
    "print(list(filter(lambda x:x%2==1,numbers)))\n",
    "print()\n",
    "\n",
    "print(\"#3 이상 7미만 추출하기\")\n",
    "print(list(filter(lambda y:3<=y<7,numbers)))\n",
    "print()\n",
    "\n",
    "print(\"# 제곱해서 50 미만 추출하기\")\n",
    "print(list(filter(lambda z:z**2<50,numbers)))"
   ]
  },
  {
   "cell_type": "code",
   "execution_count": null,
   "id": "80a9f73d",
   "metadata": {},
   "outputs": [],
   "source": [
    "# 예외처리 try ~ except ~ else ~ finally\n",
    "pi = 3.14\n",
    "\n",
    "try :\n",
    "    number_input= int(input(\"정수 입력 > \"))\n",
    "    print(\"원의 반지름 : \", number_input)\n",
    "    print(\"원의 둘레 : \", number_input*2*pi)\n",
    "    print(\"원의 넓이 : \", number_input*number_input*3.14)\n",
    "\n",
    "except :\n",
    "    print(\"정수가 입력되지 않았습니다.\")\n",
    "\n",
    "else :\n",
    "    print(\"정상 입력\")\n",
    "finally:\n",
    "    print(\"try ~ except ~ else ~ finally\")\n",
    "    \n",
    "try :\n",
    "    number_input= int(input(\"정수 입력 > \"))\n",
    "    \n",
    "\n",
    "except :\n",
    "    print(\"정수가 입력되지 않았습니다.\")\n",
    "\n",
    "else :\n",
    "    print(\"원의 반지름 : \", number_input)\n",
    "    print(\"원의 둘레 : \", number_input*2*pi)\n",
    "    print(\"원의 넓이 : \", number_input*number_input*3.14)\n",
    "finally:\n",
    "    print(\"try ~ except ~ else ~ finally\")\n",
    "    \n",
    "#파일을 'try.txt'를 'r'모드로 오픈한 뒤 에러 발생하면 'w'모드로 오픈\n",
    "#마지막에 close하고  종료"
   ]
  },
  {
   "cell_type": "code",
   "execution_count": null,
   "id": "9e0185d7",
   "metadata": {
    "scrolled": true
   },
   "outputs": [],
   "source": [
    "import os\n",
    "\n",
    "try :\n",
    "    file = open(\"./try.txt\", 'r')\n",
    "    \n",
    "\n",
    "except Exception as a :  #Exception = class (카멜 스타일)\n",
    "    print(a)\n",
    "    file = open(\"./try.txt\", 'w')\n",
    "    \n",
    "finally:\n",
    "    print(\"file close\")\n",
    "    file.close()\n",
    "    os.remove('./try.txt')\n",
    "    "
   ]
  },
  {
   "cell_type": "code",
   "execution_count": null,
   "id": "023bf352",
   "metadata": {},
   "outputs": [],
   "source": [
    "#상대겨로는 현재 작업하고 있는 폴더 경로부터\n",
    "#절대 경로는 속해있는 드라이브의 경로부터.\n",
    "import os\n",
    "\n",
    "print(os.path)"
   ]
  },
  {
   "cell_type": "code",
   "execution_count": null,
   "id": "80fa5501",
   "metadata": {},
   "outputs": [],
   "source": [
    "a_list = [10, 'a', 20, 'b']\n",
    "a_list.index('a') #해당하는 값이 위치한 index 번호 출력"
   ]
  },
  {
   "cell_type": "code",
   "execution_count": null,
   "id": "261502fd",
   "metadata": {},
   "outputs": [],
   "source": [
    "numbers = [52,273,32,103,90,10,275]\n",
    "\n",
    "print(\"#(1) 요소 내부에 있는값 찾기\")\n",
    "print(\"- {}는 {} 위치에 있습니다.\".format(52,numbers.index(52)))\n",
    "print()\n",
    "\n",
    "print(\"#(2) 요소 내부에 없는 값 찾기\")\n",
    "number = 10000\n",
    "try:\n",
    "    print(\"- {}는 위치에 있습니다.\".format(number,numbers.index(number)))\n",
    "except Exception as e:\n",
    "    print(e)\n",
    "    print(\"- 리스트 내부에 없는 값입니다.\")\n",
    "print()\n",
    "\n",
    "print(\"--- 정상적으로 종료되었습니다. ---\")"
   ]
  },
  {
   "cell_type": "code",
   "execution_count": null,
   "id": "4bdec7e8",
   "metadata": {},
   "outputs": [],
   "source": [
    "#def search_number(num,numbers):\n",
    "num_list = [52,273,32,103,90,10,275] \n",
    "try:\n",
    "    input_num = int(input(\"정수 입력 > \")) # 찾고자 하는 index입력\n",
    "    print(\"- {}는 {}위치에 있습니다.\".format(input_num,num_list[input_num]))\n",
    "except ValueError as err_contents:\n",
    "    print(\"정수를 입력하세요 : \", err_contents)\n",
    "    print(type(err_contents))\n",
    "except IndexError as err_contents:\n",
    "    print(\"범위를 벗어났습니다. : \", err_contents)\n",
    "    print(type(err_contents))\n",
    "finally:\n",
    "    print(\"--- 정상 종료되었습니다. ---\")\n",
    "    "
   ]
  },
  {
   "cell_type": "code",
   "execution_count": null,
   "id": "2fd90fc0",
   "metadata": {},
   "outputs": [],
   "source": [
    "number = int(input(\"정수 입력 > \"))\n",
    "if number > 0:\n",
    "    raise NotImplementedError #강제로 에러를 발생\n",
    "else:\n",
    "    raise NotImplementedError('아직 구현 안함')"
   ]
  },
  {
   "cell_type": "code",
   "execution_count": null,
   "id": "64e1cc15",
   "metadata": {},
   "outputs": [],
   "source": []
  },
  {
   "cell_type": "code",
   "execution_count": null,
   "id": "c1f42c61",
   "metadata": {},
   "outputs": [],
   "source": []
  }
 ],
 "metadata": {
  "kernelspec": {
   "display_name": "Python 3",
   "language": "python",
   "name": "python3"
  },
  "language_info": {
   "codemirror_mode": {
    "name": "ipython",
    "version": 3
   },
   "file_extension": ".py",
   "mimetype": "text/x-python",
   "name": "python",
   "nbconvert_exporter": "python",
   "pygments_lexer": "ipython3",
   "version": "3.8.8"
  }
 },
 "nbformat": 4,
 "nbformat_minor": 5
}
